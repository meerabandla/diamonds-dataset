{
  "cells": [
    {
      "cell_type": "markdown",
      "metadata": {
        "id": "view-in-github",
        "colab_type": "text"
      },
      "source": [
        "<a href=\"https://colab.research.google.com/github/meerabandla/diamonds-dataset/blob/main/Meera_Visualisation_Homework.ipynb\" target=\"_parent\"><img src=\"https://colab.research.google.com/assets/colab-badge.svg\" alt=\"Open In Colab\"/></a>"
      ]
    },
    {
      "cell_type": "code",
      "execution_count": 1,
      "metadata": {
        "colab": {
          "base_uri": "https://localhost:8080/",
          "height": 206
        },
        "id": "Km-DSRtGg4tZ",
        "outputId": "04bfb5d7-c65c-4582-d8da-25b2a485c558"
      },
      "outputs": [
        {
          "output_type": "execute_result",
          "data": {
            "text/plain": [
              "   carat      cut color clarity  depth  table  price     x     y     z\n",
              "0   0.23    Ideal     E     SI2   61.5   55.0    326  3.95  3.98  2.43\n",
              "1   0.21  Premium     E     SI1   59.8   61.0    326  3.89  3.84  2.31\n",
              "2   0.23     Good     E     VS1   56.9   65.0    327  4.05  4.07  2.31\n",
              "3   0.29  Premium     I     VS2   62.4   58.0    334  4.20  4.23  2.63\n",
              "4   0.31     Good     J     SI2   63.3   58.0    335  4.34  4.35  2.75"
            ],
            "text/html": [
              "\n",
              "  <div id=\"df-d4fa2891-8e4e-4892-9df2-5493b4f62a7f\" class=\"colab-df-container\">\n",
              "    <div>\n",
              "<style scoped>\n",
              "    .dataframe tbody tr th:only-of-type {\n",
              "        vertical-align: middle;\n",
              "    }\n",
              "\n",
              "    .dataframe tbody tr th {\n",
              "        vertical-align: top;\n",
              "    }\n",
              "\n",
              "    .dataframe thead th {\n",
              "        text-align: right;\n",
              "    }\n",
              "</style>\n",
              "<table border=\"1\" class=\"dataframe\">\n",
              "  <thead>\n",
              "    <tr style=\"text-align: right;\">\n",
              "      <th></th>\n",
              "      <th>carat</th>\n",
              "      <th>cut</th>\n",
              "      <th>color</th>\n",
              "      <th>clarity</th>\n",
              "      <th>depth</th>\n",
              "      <th>table</th>\n",
              "      <th>price</th>\n",
              "      <th>x</th>\n",
              "      <th>y</th>\n",
              "      <th>z</th>\n",
              "    </tr>\n",
              "  </thead>\n",
              "  <tbody>\n",
              "    <tr>\n",
              "      <th>0</th>\n",
              "      <td>0.23</td>\n",
              "      <td>Ideal</td>\n",
              "      <td>E</td>\n",
              "      <td>SI2</td>\n",
              "      <td>61.5</td>\n",
              "      <td>55.0</td>\n",
              "      <td>326</td>\n",
              "      <td>3.95</td>\n",
              "      <td>3.98</td>\n",
              "      <td>2.43</td>\n",
              "    </tr>\n",
              "    <tr>\n",
              "      <th>1</th>\n",
              "      <td>0.21</td>\n",
              "      <td>Premium</td>\n",
              "      <td>E</td>\n",
              "      <td>SI1</td>\n",
              "      <td>59.8</td>\n",
              "      <td>61.0</td>\n",
              "      <td>326</td>\n",
              "      <td>3.89</td>\n",
              "      <td>3.84</td>\n",
              "      <td>2.31</td>\n",
              "    </tr>\n",
              "    <tr>\n",
              "      <th>2</th>\n",
              "      <td>0.23</td>\n",
              "      <td>Good</td>\n",
              "      <td>E</td>\n",
              "      <td>VS1</td>\n",
              "      <td>56.9</td>\n",
              "      <td>65.0</td>\n",
              "      <td>327</td>\n",
              "      <td>4.05</td>\n",
              "      <td>4.07</td>\n",
              "      <td>2.31</td>\n",
              "    </tr>\n",
              "    <tr>\n",
              "      <th>3</th>\n",
              "      <td>0.29</td>\n",
              "      <td>Premium</td>\n",
              "      <td>I</td>\n",
              "      <td>VS2</td>\n",
              "      <td>62.4</td>\n",
              "      <td>58.0</td>\n",
              "      <td>334</td>\n",
              "      <td>4.20</td>\n",
              "      <td>4.23</td>\n",
              "      <td>2.63</td>\n",
              "    </tr>\n",
              "    <tr>\n",
              "      <th>4</th>\n",
              "      <td>0.31</td>\n",
              "      <td>Good</td>\n",
              "      <td>J</td>\n",
              "      <td>SI2</td>\n",
              "      <td>63.3</td>\n",
              "      <td>58.0</td>\n",
              "      <td>335</td>\n",
              "      <td>4.34</td>\n",
              "      <td>4.35</td>\n",
              "      <td>2.75</td>\n",
              "    </tr>\n",
              "  </tbody>\n",
              "</table>\n",
              "</div>\n",
              "    <div class=\"colab-df-buttons\">\n",
              "\n",
              "  <div class=\"colab-df-container\">\n",
              "    <button class=\"colab-df-convert\" onclick=\"convertToInteractive('df-d4fa2891-8e4e-4892-9df2-5493b4f62a7f')\"\n",
              "            title=\"Convert this dataframe to an interactive table.\"\n",
              "            style=\"display:none;\">\n",
              "\n",
              "  <svg xmlns=\"http://www.w3.org/2000/svg\" height=\"24px\" viewBox=\"0 -960 960 960\">\n",
              "    <path d=\"M120-120v-720h720v720H120Zm60-500h600v-160H180v160Zm220 220h160v-160H400v160Zm0 220h160v-160H400v160ZM180-400h160v-160H180v160Zm440 0h160v-160H620v160ZM180-180h160v-160H180v160Zm440 0h160v-160H620v160Z\"/>\n",
              "  </svg>\n",
              "    </button>\n",
              "\n",
              "  <style>\n",
              "    .colab-df-container {\n",
              "      display:flex;\n",
              "      gap: 12px;\n",
              "    }\n",
              "\n",
              "    .colab-df-convert {\n",
              "      background-color: #E8F0FE;\n",
              "      border: none;\n",
              "      border-radius: 50%;\n",
              "      cursor: pointer;\n",
              "      display: none;\n",
              "      fill: #1967D2;\n",
              "      height: 32px;\n",
              "      padding: 0 0 0 0;\n",
              "      width: 32px;\n",
              "    }\n",
              "\n",
              "    .colab-df-convert:hover {\n",
              "      background-color: #E2EBFA;\n",
              "      box-shadow: 0px 1px 2px rgba(60, 64, 67, 0.3), 0px 1px 3px 1px rgba(60, 64, 67, 0.15);\n",
              "      fill: #174EA6;\n",
              "    }\n",
              "\n",
              "    .colab-df-buttons div {\n",
              "      margin-bottom: 4px;\n",
              "    }\n",
              "\n",
              "    [theme=dark] .colab-df-convert {\n",
              "      background-color: #3B4455;\n",
              "      fill: #D2E3FC;\n",
              "    }\n",
              "\n",
              "    [theme=dark] .colab-df-convert:hover {\n",
              "      background-color: #434B5C;\n",
              "      box-shadow: 0px 1px 3px 1px rgba(0, 0, 0, 0.15);\n",
              "      filter: drop-shadow(0px 1px 2px rgba(0, 0, 0, 0.3));\n",
              "      fill: #FFFFFF;\n",
              "    }\n",
              "  </style>\n",
              "\n",
              "    <script>\n",
              "      const buttonEl =\n",
              "        document.querySelector('#df-d4fa2891-8e4e-4892-9df2-5493b4f62a7f button.colab-df-convert');\n",
              "      buttonEl.style.display =\n",
              "        google.colab.kernel.accessAllowed ? 'block' : 'none';\n",
              "\n",
              "      async function convertToInteractive(key) {\n",
              "        const element = document.querySelector('#df-d4fa2891-8e4e-4892-9df2-5493b4f62a7f');\n",
              "        const dataTable =\n",
              "          await google.colab.kernel.invokeFunction('convertToInteractive',\n",
              "                                                    [key], {});\n",
              "        if (!dataTable) return;\n",
              "\n",
              "        const docLinkHtml = 'Like what you see? Visit the ' +\n",
              "          '<a target=\"_blank\" href=https://colab.research.google.com/notebooks/data_table.ipynb>data table notebook</a>'\n",
              "          + ' to learn more about interactive tables.';\n",
              "        element.innerHTML = '';\n",
              "        dataTable['output_type'] = 'display_data';\n",
              "        await google.colab.output.renderOutput(dataTable, element);\n",
              "        const docLink = document.createElement('div');\n",
              "        docLink.innerHTML = docLinkHtml;\n",
              "        element.appendChild(docLink);\n",
              "      }\n",
              "    </script>\n",
              "  </div>\n",
              "\n",
              "\n",
              "<div id=\"df-4ad99fd5-4f67-4743-a7e0-6f7bebc7200b\">\n",
              "  <button class=\"colab-df-quickchart\" onclick=\"quickchart('df-4ad99fd5-4f67-4743-a7e0-6f7bebc7200b')\"\n",
              "            title=\"Suggest charts\"\n",
              "            style=\"display:none;\">\n",
              "\n",
              "<svg xmlns=\"http://www.w3.org/2000/svg\" height=\"24px\"viewBox=\"0 0 24 24\"\n",
              "     width=\"24px\">\n",
              "    <g>\n",
              "        <path d=\"M19 3H5c-1.1 0-2 .9-2 2v14c0 1.1.9 2 2 2h14c1.1 0 2-.9 2-2V5c0-1.1-.9-2-2-2zM9 17H7v-7h2v7zm4 0h-2V7h2v10zm4 0h-2v-4h2v4z\"/>\n",
              "    </g>\n",
              "</svg>\n",
              "  </button>\n",
              "\n",
              "<style>\n",
              "  .colab-df-quickchart {\n",
              "      --bg-color: #E8F0FE;\n",
              "      --fill-color: #1967D2;\n",
              "      --hover-bg-color: #E2EBFA;\n",
              "      --hover-fill-color: #174EA6;\n",
              "      --disabled-fill-color: #AAA;\n",
              "      --disabled-bg-color: #DDD;\n",
              "  }\n",
              "\n",
              "  [theme=dark] .colab-df-quickchart {\n",
              "      --bg-color: #3B4455;\n",
              "      --fill-color: #D2E3FC;\n",
              "      --hover-bg-color: #434B5C;\n",
              "      --hover-fill-color: #FFFFFF;\n",
              "      --disabled-bg-color: #3B4455;\n",
              "      --disabled-fill-color: #666;\n",
              "  }\n",
              "\n",
              "  .colab-df-quickchart {\n",
              "    background-color: var(--bg-color);\n",
              "    border: none;\n",
              "    border-radius: 50%;\n",
              "    cursor: pointer;\n",
              "    display: none;\n",
              "    fill: var(--fill-color);\n",
              "    height: 32px;\n",
              "    padding: 0;\n",
              "    width: 32px;\n",
              "  }\n",
              "\n",
              "  .colab-df-quickchart:hover {\n",
              "    background-color: var(--hover-bg-color);\n",
              "    box-shadow: 0 1px 2px rgba(60, 64, 67, 0.3), 0 1px 3px 1px rgba(60, 64, 67, 0.15);\n",
              "    fill: var(--button-hover-fill-color);\n",
              "  }\n",
              "\n",
              "  .colab-df-quickchart-complete:disabled,\n",
              "  .colab-df-quickchart-complete:disabled:hover {\n",
              "    background-color: var(--disabled-bg-color);\n",
              "    fill: var(--disabled-fill-color);\n",
              "    box-shadow: none;\n",
              "  }\n",
              "\n",
              "  .colab-df-spinner {\n",
              "    border: 2px solid var(--fill-color);\n",
              "    border-color: transparent;\n",
              "    border-bottom-color: var(--fill-color);\n",
              "    animation:\n",
              "      spin 1s steps(1) infinite;\n",
              "  }\n",
              "\n",
              "  @keyframes spin {\n",
              "    0% {\n",
              "      border-color: transparent;\n",
              "      border-bottom-color: var(--fill-color);\n",
              "      border-left-color: var(--fill-color);\n",
              "    }\n",
              "    20% {\n",
              "      border-color: transparent;\n",
              "      border-left-color: var(--fill-color);\n",
              "      border-top-color: var(--fill-color);\n",
              "    }\n",
              "    30% {\n",
              "      border-color: transparent;\n",
              "      border-left-color: var(--fill-color);\n",
              "      border-top-color: var(--fill-color);\n",
              "      border-right-color: var(--fill-color);\n",
              "    }\n",
              "    40% {\n",
              "      border-color: transparent;\n",
              "      border-right-color: var(--fill-color);\n",
              "      border-top-color: var(--fill-color);\n",
              "    }\n",
              "    60% {\n",
              "      border-color: transparent;\n",
              "      border-right-color: var(--fill-color);\n",
              "    }\n",
              "    80% {\n",
              "      border-color: transparent;\n",
              "      border-right-color: var(--fill-color);\n",
              "      border-bottom-color: var(--fill-color);\n",
              "    }\n",
              "    90% {\n",
              "      border-color: transparent;\n",
              "      border-bottom-color: var(--fill-color);\n",
              "    }\n",
              "  }\n",
              "</style>\n",
              "\n",
              "  <script>\n",
              "    async function quickchart(key) {\n",
              "      const quickchartButtonEl =\n",
              "        document.querySelector('#' + key + ' button');\n",
              "      quickchartButtonEl.disabled = true;  // To prevent multiple clicks.\n",
              "      quickchartButtonEl.classList.add('colab-df-spinner');\n",
              "      try {\n",
              "        const charts = await google.colab.kernel.invokeFunction(\n",
              "            'suggestCharts', [key], {});\n",
              "      } catch (error) {\n",
              "        console.error('Error during call to suggestCharts:', error);\n",
              "      }\n",
              "      quickchartButtonEl.classList.remove('colab-df-spinner');\n",
              "      quickchartButtonEl.classList.add('colab-df-quickchart-complete');\n",
              "    }\n",
              "    (() => {\n",
              "      let quickchartButtonEl =\n",
              "        document.querySelector('#df-4ad99fd5-4f67-4743-a7e0-6f7bebc7200b button');\n",
              "      quickchartButtonEl.style.display =\n",
              "        google.colab.kernel.accessAllowed ? 'block' : 'none';\n",
              "    })();\n",
              "  </script>\n",
              "</div>\n",
              "    </div>\n",
              "  </div>\n"
            ],
            "application/vnd.google.colaboratory.intrinsic+json": {
              "type": "dataframe",
              "variable_name": "diamonds_data",
              "summary": "{\n  \"name\": \"diamonds_data\",\n  \"rows\": 53940,\n  \"fields\": [\n    {\n      \"column\": \"carat\",\n      \"properties\": {\n        \"dtype\": \"number\",\n        \"std\": 0.4740112444054184,\n        \"min\": 0.2,\n        \"max\": 5.01,\n        \"num_unique_values\": 273,\n        \"samples\": [\n          0.77,\n          1.58,\n          0.65\n        ],\n        \"semantic_type\": \"\",\n        \"description\": \"\"\n      }\n    },\n    {\n      \"column\": \"cut\",\n      \"properties\": {\n        \"dtype\": \"category\",\n        \"num_unique_values\": 5,\n        \"samples\": [\n          \"Premium\",\n          \"Fair\",\n          \"Good\"\n        ],\n        \"semantic_type\": \"\",\n        \"description\": \"\"\n      }\n    },\n    {\n      \"column\": \"color\",\n      \"properties\": {\n        \"dtype\": \"category\",\n        \"num_unique_values\": 7,\n        \"samples\": [\n          \"E\",\n          \"I\",\n          \"G\"\n        ],\n        \"semantic_type\": \"\",\n        \"description\": \"\"\n      }\n    },\n    {\n      \"column\": \"clarity\",\n      \"properties\": {\n        \"dtype\": \"category\",\n        \"num_unique_values\": 8,\n        \"samples\": [\n          \"SI1\",\n          \"VVS1\",\n          \"SI2\"\n        ],\n        \"semantic_type\": \"\",\n        \"description\": \"\"\n      }\n    },\n    {\n      \"column\": \"depth\",\n      \"properties\": {\n        \"dtype\": \"number\",\n        \"std\": 1.432621318833661,\n        \"min\": 43.0,\n        \"max\": 79.0,\n        \"num_unique_values\": 184,\n        \"samples\": [\n          61.0,\n          62.9,\n          70.2\n        ],\n        \"semantic_type\": \"\",\n        \"description\": \"\"\n      }\n    },\n    {\n      \"column\": \"table\",\n      \"properties\": {\n        \"dtype\": \"number\",\n        \"std\": 2.2344905628213225,\n        \"min\": 43.0,\n        \"max\": 95.0,\n        \"num_unique_values\": 127,\n        \"samples\": [\n          54.8,\n          61.5,\n          57.6\n        ],\n        \"semantic_type\": \"\",\n        \"description\": \"\"\n      }\n    },\n    {\n      \"column\": \"price\",\n      \"properties\": {\n        \"dtype\": \"number\",\n        \"std\": 3989,\n        \"min\": 326,\n        \"max\": 18823,\n        \"num_unique_values\": 11602,\n        \"samples\": [\n          16368,\n          895,\n          748\n        ],\n        \"semantic_type\": \"\",\n        \"description\": \"\"\n      }\n    },\n    {\n      \"column\": \"x\",\n      \"properties\": {\n        \"dtype\": \"number\",\n        \"std\": 1.1217607467924928,\n        \"min\": 0.0,\n        \"max\": 10.74,\n        \"num_unique_values\": 554,\n        \"samples\": [\n          5.88,\n          5.69,\n          4.61\n        ],\n        \"semantic_type\": \"\",\n        \"description\": \"\"\n      }\n    },\n    {\n      \"column\": \"y\",\n      \"properties\": {\n        \"dtype\": \"number\",\n        \"std\": 1.1421346741235552,\n        \"min\": 0.0,\n        \"max\": 58.9,\n        \"num_unique_values\": 552,\n        \"samples\": [\n          5.33,\n          5.61,\n          5.25\n        ],\n        \"semantic_type\": \"\",\n        \"description\": \"\"\n      }\n    },\n    {\n      \"column\": \"z\",\n      \"properties\": {\n        \"dtype\": \"number\",\n        \"std\": 0.7056988469499941,\n        \"min\": 0.0,\n        \"max\": 31.8,\n        \"num_unique_values\": 375,\n        \"samples\": [\n          3.36,\n          2.45,\n          2.7\n        ],\n        \"semantic_type\": \"\",\n        \"description\": \"\"\n      }\n    }\n  ]\n}"
            }
          },
          "metadata": {},
          "execution_count": 1
        }
      ],
      "source": [
        "# !!!!!Import rest of the libraries required\n",
        "import seaborn as sns\n",
        "import matplotlib.pyplot as plt\n",
        "\n",
        "\n",
        "# Load the Diamonds dataset from Seaborn\n",
        "diamonds_data = sns.load_dataset(\"diamonds\")\n",
        "diamonds_data.head(5)\n",
        "\n",
        "\n",
        "\n"
      ]
    },
    {
      "cell_type": "code",
      "execution_count": null,
      "metadata": {
        "id": "Jsl56ycz7NOV"
      },
      "outputs": [],
      "source": [
        "## STATISTICS challenge:\n",
        "\n",
        "# calculate the mean of the price by cut\n",
        "# calculate the standard deviation of the price by cut\n",
        "# calculate the median of the price by cut\n",
        "# calculate the mode of the price by cut\n",
        "# calculate the variance of the price by cut\n",
        "# calculate the 25 and 75 percentile of the price by cut\n",
        "# calculate the range of the price by cut\n",
        "\n",
        "# bonus 1:\n",
        "# is there a correlation between the price and the carat? If so, what kind of correlation is it?\n",
        "# what about covariance?\n",
        "\n",
        "\n",
        "# bonus 2 if you have a lot of time:\n",
        "# make a function on your own that calculates the standard deviation of a list of numbers (you can find the formula in last weeks slides)"
      ]
    },
    {
      "cell_type": "code",
      "execution_count": 16,
      "metadata": {
        "id": "jHmOwJFnhCv0"
      },
      "outputs": [],
      "source": [
        "# 1. Boxplot of Diamond Price Vs Cut\n"
      ]
    },
    {
      "cell_type": "code",
      "execution_count": 5,
      "metadata": {
        "id": "_bnCXisIhB1K"
      },
      "outputs": [],
      "source": [
        "# 2. Barplot: Average Diamond Price by Color"
      ]
    },
    {
      "cell_type": "code",
      "execution_count": null,
      "metadata": {
        "id": "9lJXW_bbhBCH"
      },
      "outputs": [],
      "source": [
        "# 3. Scatterplot with Facets: Scatterplot of Carat vs. Price by Cut\"\n"
      ]
    },
    {
      "cell_type": "code",
      "execution_count": null,
      "metadata": {
        "id": "I-XqrHK-hAaz"
      },
      "outputs": [],
      "source": [
        "# 4. Pie Chart: Distribution of Diamond Cut\n"
      ]
    },
    {
      "cell_type": "code",
      "execution_count": null,
      "metadata": {
        "id": "ryaP6BkthSsV"
      },
      "outputs": [],
      "source": [
        "# Create a correlation matrix\n",
        "correlation_matrix = diamonds_data.corr()\n",
        "\n",
        "# Create a correlation plot\n",
        "mean_price_by_cut = data.groupby('cut')['price'].mean()\n",
        "\n",
        "print(mean_price_by_cut)\n"
      ]
    },
    {
      "cell_type": "code",
      "source": [
        "import pandas as pd\n",
        "import matplotlib.pyplot as plt\n",
        "\n",
        "\n",
        "data = {\n",
        "    'carat': [0.23, 0.21, 0.23, 0.29, 0.31],\n",
        "    'cut': ['Ideal', 'Premium', 'Good', 'Premium', 'Good'],\n",
        "    'color': ['E', 'E', 'E', 'I', 'J'],\n",
        "    'clarity': ['SI2', 'SI1', 'VS1', 'VS2', 'SI2'],\n",
        "    'depth': [61.5, 59.8, 56.9, 62.4, 63.3],\n",
        "    'table': [55.0, 61.0, 65.0, 58.0, 58.0],\n",
        "    'price': [326, 326, 327, 334, 335],\n",
        "    'x': [3.95, 3.89, 4.05, 4.20, 4.34],\n",
        "    'y': [3.98, 3.84, 4.07, 4.23, 4.35],\n",
        "    'z': [2.43, 2.31, 2.31, 2.63, 2.75]\n",
        "}\n",
        "data = pd.DataFrame(data)\n",
        "\n",
        "\n",
        "mean_price_by_cut = data.groupby('cut')['price'].mean().reset_index()\n",
        "\n",
        "plt.figure(figsize=(8, 6))\n",
        "plt.bar(mean_price_by_cut['cut'], mean_price_by_cut['price'], color='skyblue')\n",
        "plt.title('Mean Price by Cut')\n",
        "plt.xlabel('Cut')\n",
        "plt.ylabel('Mean Price')\n",
        "plt.xticks(rotation=45)\n",
        "plt.show()\n"
      ],
      "metadata": {
        "colab": {
          "base_uri": "https://localhost:8080/",
          "height": 604
        },
        "id": "X7uyyWTE8a3l",
        "outputId": "78163974-4693-4037-924d-50dd82b98728"
      },
      "execution_count": 29,
      "outputs": [
        {
          "output_type": "display_data",
          "data": {
            "text/plain": [
              "<Figure size 800x600 with 1 Axes>"
            ],
            "image/png": "[encoded data removed]"
          },
          "metadata": {}
        }
      ]
    },
    {
      "cell_type": "code",
      "source": [
        "import pandas as pd\n",
        "data = {\n",
        "    'carat': [0.23, 0.21, 0.23, 0.29, 0.31],\n",
        "    'cut': ['Ideal', 'Premium', 'Good', 'Premium', 'Good'],\n",
        "    'color': ['E', 'E', 'E', 'I', 'J'],\n",
        "    'clarity': ['SI2', 'SI1', 'VS1', 'VS2', 'SI2'],\n",
        "    'depth': [61.5, 59.8, 56.9, 62.4, 63.3],\n",
        "    'table': [55.0, 61.0, 65.0, 58.0, 58.0],\n",
        "    'price': [326, 326, 327, 334, 335],\n",
        "    'x': [3.95, 3.89, 4.05, 4.20, 4.34],\n",
        "    'y': [3.98, 3.84, 4.07, 4.23, 4.35],\n",
        "    'z': [2.43, 2.31, 2.31, 2.63, 2.75]\n",
        "}\n",
        "df = pd.DataFrame(data)\n",
        "mean_price_by_cut = df.groupby('cut')['price'].mean()\n",
        "\n",
        "print(mean_price_by_cut)\n"
      ],
      "metadata": {
        "colab": {
          "base_uri": "https://localhost:8080/"
        },
        "id": "mKdryWrY8g1C",
        "outputId": "c25b05a1-591b-4d55-c595-44d82f4e1fe9"
      },
      "execution_count": 6,
      "outputs": [
        {
          "output_type": "stream",
          "name": "stdout",
          "text": [
            "cut\n",
            "Good       331.0\n",
            "Ideal      326.0\n",
            "Premium    330.0\n",
            "Name: price, dtype: float64\n"
          ]
        }
      ]
    },
    {
      "cell_type": "code",
      "source": [
        "std_price_by_cut = df.groupby('cut')['price'].std()\n",
        "\n",
        "print(std_price_by_cut)"
      ],
      "metadata": {
        "colab": {
          "base_uri": "https://localhost:8080/"
        },
        "id": "CiPLq92i93u6",
        "outputId": "a6bdc3d9-f4ab-495d-ba9f-7afaf70c636a"
      },
      "execution_count": 7,
      "outputs": [
        {
          "output_type": "stream",
          "name": "stdout",
          "text": [
            "cut\n",
            "Good       5.656854\n",
            "Ideal           NaN\n",
            "Premium    5.656854\n",
            "Name: price, dtype: float64\n"
          ]
        }
      ]
    },
    {
      "cell_type": "code",
      "source": [
        "median_price_by_cut = df.groupby('cut')['price'].median()\n",
        "\n",
        "print(median_price_by_cut)\n"
      ],
      "metadata": {
        "colab": {
          "base_uri": "https://localhost:8080/"
        },
        "id": "2ke4tJ-v-cMG",
        "outputId": "6990155b-e23d-473a-9ef7-bf36c7f80475"
      },
      "execution_count": 8,
      "outputs": [
        {
          "output_type": "stream",
          "name": "stdout",
          "text": [
            "cut\n",
            "Good       331.0\n",
            "Ideal      326.0\n",
            "Premium    330.0\n",
            "Name: price, dtype: float64\n"
          ]
        }
      ]
    },
    {
      "cell_type": "code",
      "source": [
        "mode_price_by_cut = df.groupby('cut')['price'].apply(lambda x: x.mode()[0] if not x.mode().empty else None)\n",
        "\n",
        "print(mode_price_by_cut)\n"
      ],
      "metadata": {
        "colab": {
          "base_uri": "https://localhost:8080/"
        },
        "id": "LQ8zo2dN-tfn",
        "outputId": "988f900b-d6f3-42d2-ae49-608ba5013a2a"
      },
      "execution_count": 9,
      "outputs": [
        {
          "output_type": "stream",
          "name": "stdout",
          "text": [
            "cut\n",
            "Good       327\n",
            "Ideal      326\n",
            "Premium    326\n",
            "Name: price, dtype: int64\n"
          ]
        }
      ]
    },
    {
      "cell_type": "code",
      "source": [
        "variance_price_by_cut = df.groupby('cut')['price'].var()\n",
        "\n",
        "print(variance_price_by_cut)\n"
      ],
      "metadata": {
        "colab": {
          "base_uri": "https://localhost:8080/"
        },
        "id": "KrBJO9YH--TJ",
        "outputId": "3ddd66e0-fc6a-4ac3-bc19-8efdaa7428cd"
      },
      "execution_count": 10,
      "outputs": [
        {
          "output_type": "stream",
          "name": "stdout",
          "text": [
            "cut\n",
            "Good       32.0\n",
            "Ideal       NaN\n",
            "Premium    32.0\n",
            "Name: price, dtype: float64\n"
          ]
        }
      ]
    },
    {
      "cell_type": "code",
      "source": [
        "percentiles_price_by_cut = df.groupby('cut')['price'].quantile([0.25, 0.75])\n",
        "\n",
        "print(percentiles_price_by_cut)\n"
      ],
      "metadata": {
        "colab": {
          "base_uri": "https://localhost:8080/"
        },
        "id": "iftrm26V_Out",
        "outputId": "82f5bb03-e6bb-413d-ba82-61c8c1381153"
      },
      "execution_count": 11,
      "outputs": [
        {
          "output_type": "stream",
          "name": "stdout",
          "text": [
            "cut          \n",
            "Good     0.25    329.0\n",
            "         0.75    333.0\n",
            "Ideal    0.25    326.0\n",
            "         0.75    326.0\n",
            "Premium  0.25    328.0\n",
            "         0.75    332.0\n",
            "Name: price, dtype: float64\n"
          ]
        }
      ]
    },
    {
      "cell_type": "code",
      "source": [
        "price_range_by_cut = df.groupby('cut')['price'].apply(lambda x: x.max() - x.min())\n",
        "\n",
        "print(price_range_by_cut)\n"
      ],
      "metadata": {
        "colab": {
          "base_uri": "https://localhost:8080/"
        },
        "id": "LZbUOY5m_qb8",
        "outputId": "cdb689d6-b986-446c-96d4-eeb4388fdbf6"
      },
      "execution_count": 12,
      "outputs": [
        {
          "output_type": "stream",
          "name": "stdout",
          "text": [
            "cut\n",
            "Good       8\n",
            "Ideal      0\n",
            "Premium    8\n",
            "Name: price, dtype: int64\n"
          ]
        }
      ]
    },
    {
      "cell_type": "code",
      "source": [
        "correlation = df['price'].corr(df['carat'])\n",
        "\n",
        "print(\"Correlation coefficient between price and carat:\", correlation)\n"
      ],
      "metadata": {
        "colab": {
          "base_uri": "https://localhost:8080/"
        },
        "id": "He-Xqzkb_5OI",
        "outputId": "74d2614f-a2b9-4f6e-b864-f6e371fc9f8c"
      },
      "execution_count": 14,
      "outputs": [
        {
          "output_type": "stream",
          "name": "stdout",
          "text": [
            "Correlation coefficient between price and carat: 0.9828206777664048\n"
          ]
        }
      ]
    },
    {
      "cell_type": "code",
      "source": [
        "covariance = df['price'].cov(df['carat'])\n",
        "\n",
        "print(\"Covariance between price and carat:\", covariance)\n"
      ],
      "metadata": {
        "colab": {
          "base_uri": "https://localhost:8080/"
        },
        "id": "0kPm7mSMBOHK",
        "outputId": "27fd7157-9d40-4fae-92f9-cc8b2c833ac3"
      },
      "execution_count": 15,
      "outputs": [
        {
          "output_type": "stream",
          "name": "stdout",
          "text": [
            "Covariance between price and carat: 0.19199999999999998\n"
          ]
        }
      ]
    },
    {
      "cell_type": "code",
      "source": [
        "data = {\n",
        "    'carat': [0.23, 0.21, 0.23, 0.29, 0.31],\n",
        "    'cut': ['Ideal', 'Premium', 'Good', 'Premium', 'Good'],\n",
        "    'color': ['E', 'E', 'E', 'I', 'J'],\n",
        "    'clarity': ['SI2', 'SI1', 'VS1', 'VS2', 'SI2'],\n",
        "    'depth': [61.5, 59.8, 56.9, 62.4, 63.3],\n",
        "    'table': [55.0, 61.0, 65.0, 58.0, 58.0],\n",
        "    'price': [326, 326, 327, 334, 335],\n",
        "    'x': [3.95, 3.89, 4.05, 4.20, 4.34],\n",
        "    'y': [3.98, 3.84, 4.07, 4.23, 4.35],\n",
        "    'z': [2.43, 2.31, 2.31, 2.63, 2.75]\n",
        "}\n",
        "df = pd.DataFrame(data)\n",
        "\n",
        "# Create a boxplot\n",
        "plt.figure(figsize=(10, 6))\n",
        "df.boxplot(column='price', by='cut')\n",
        "plt.title('Boxplot of Diamond Price vs Cut')\n",
        "plt.xlabel('Cut')\n",
        "plt.ylabel('Price')\n",
        "plt.show()\n"
      ],
      "metadata": {
        "colab": {
          "base_uri": "https://localhost:8080/",
          "height": 495
        },
        "id": "IYairp8RBjAV",
        "outputId": "bcb34eb3-3257-4474-b146-b4faaa6e5f5f"
      },
      "execution_count": 17,
      "outputs": [
        {
          "output_type": "display_data",
          "data": {
            "text/plain": [
              "<Figure size 1000x600 with 0 Axes>"
            ]
          },
          "metadata": {}
        },
        {
          "output_type": "display_data",
          "data": {
            "text/plain": [
              "<Figure size 640x480 with 1 Axes>"
            ],
            "image/png": "[encoded data removed]"
          },
          "metadata": {}
        }
      ]
    },
    {
      "cell_type": "code",
      "source": [
        "\n"
      ],
      "metadata": {
        "id": "Dj7mb540CECc"
      },
      "execution_count": null,
      "outputs": []
    },
    {
      "cell_type": "code",
      "source": [
        "avg_price_by_color = df.groupby('color')['price'].mean().reset_index()\n",
        "\n",
        "plt.figure(figsize=(10, 6))\n",
        "plt.bar(avg_price_by_color['color'], avg_price_by_color['price'], color='skyblue')\n",
        "plt.title('Average Diamond Price by Color')\n",
        "plt.xlabel('Color')\n",
        "plt.ylabel('Average Price')\n",
        "plt.show()\n"
      ],
      "metadata": {
        "colab": {
          "base_uri": "https://localhost:8080/",
          "height": 564
        },
        "id": "aUkPfpmoCpA5",
        "outputId": "40ce29ad-7f3c-4b1b-8bea-8a0876a5a752"
      },
      "execution_count": 20,
      "outputs": [
        {
          "output_type": "display_data",
          "data": {
            "text/plain": [
              "<Figure size 1000x600 with 1 Axes>"
            ],
            "image/png": "[encoded data removed]"
          },
          "metadata": {}
        }
      ]
    },
    {
      "cell_type": "code",
      "source": [
        "plt.figure(figsize=(10, 6))\n",
        "sns.scatterplot(data=df, x='carat', y='price', hue='cut', style='cut', palette='Set2', markers=['o', 's', 'D', '^', 'x'])\n",
        "plt.title('Scatterplot of Carat vs. Price by Cut')\n",
        "plt.xlabel('Carat')\n",
        "plt.ylabel('Price')\n",
        "plt.legend(title='Cut')\n",
        "plt.show()\n"
      ],
      "metadata": {
        "colab": {
          "base_uri": "https://localhost:8080/",
          "height": 599
        },
        "id": "zQ5sz7SKC0dS",
        "outputId": "17e0a087-3434-4591-bacd-0d56e7f5e77f"
      },
      "execution_count": 21,
      "outputs": [
        {
          "output_type": "stream",
          "name": "stderr",
          "text": [
            "<ipython-input-21-e6ee9c970134>:2: UserWarning: The markers list has more values (5) than needed (3), which may not be intended.\n",
            "  sns.scatterplot(data=df, x='carat', y='price', hue='cut', style='cut', palette='Set2', markers=['o', 's', 'D', '^', 'x'])\n"
          ]
        },
        {
          "output_type": "display_data",
          "data": {
            "text/plain": [
              "<Figure size 1000x600 with 1 Axes>"
            ],
            "image/png": "[encoded data removed]"
          },
          "metadata": {}
        }
      ]
    },
    {
      "cell_type": "code",
      "source": [
        "cut_distribution = df['cut'].value_counts()\n",
        "plt.figure(figsize=(8, 8))\n",
        "plt.pie(cut_distribution, labels=cut_distribution.index, autopct='%1.1f%%', startangle=140)\n",
        "plt.title('Distribution of Diamond Cut')\n",
        "plt.axis('equal')  # Equal aspect ratio ensures that pie is drawn as a circle.\n",
        "plt.show()"
      ],
      "metadata": {
        "colab": {
          "base_uri": "https://localhost:8080/",
          "height": 675
        },
        "id": "QUGpKDcXDPcC",
        "outputId": "d4de53d2-4d42-497c-a6e0-9e25df85279b"
      },
      "execution_count": 22,
      "outputs": [
        {
          "output_type": "display_data",
          "data": {
            "text/plain": [
              "<Figure size 800x800 with 1 Axes>"
            ],
            "image/png": "[encoded data removed]"
          },
          "metadata": {}
        }
      ]
    },
    {
      "cell_type": "code",
      "source": [],
      "metadata": {
        "id": "LQOv-RrADp8B"
      },
      "execution_count": null,
      "outputs": []
    },
    {
      "cell_type": "code",
      "source": [
        "data = {\n",
        "    'carat': [0.23, 0.21, 0.23, 0.29, 0.31],\n",
        "    'cut': ['Ideal', 'Premium', 'Good', 'Premium', 'Good'],\n",
        "    'color': ['E', 'E', 'E', 'I', 'J'],\n",
        "    'clarity': ['SI2', 'SI1', 'VS1', 'VS2', 'SI2'],\n",
        "    'depth': [61.5, 59.8, 56.9, 62.4, 63.3],\n",
        "    'table': [55.0, 61.0, 65.0, 58.0, 58.0],\n",
        "    'price': [326, 326, 327, 334, 335],\n",
        "    'x': [3.95, 3.89, 4.05, 4.20, 4.34],\n",
        "    'y': [3.98, 3.84, 4.07, 4.23, 4.35],\n",
        "    'z': [2.43, 2.31, 2.31, 2.63, 2.75]\n",
        "}\n",
        "diamonds_data = pd.DataFrame(data)\n",
        "\n",
        "\n",
        "numeric_columns = diamonds_data.select_dtypes(include=['float64', 'int64'])\n",
        "\n",
        "\n",
        "correlation_matrix = numeric_columns.corr()\n",
        "\n",
        "print(correlation_matrix)\n"
      ],
      "metadata": {
        "colab": {
          "base_uri": "https://localhost:8080/"
        },
        "id": "BcXtdetrD7mH",
        "outputId": "2eaf2351-0ee2-4230-cbbc-a3f1620dbc46"
      },
      "execution_count": 28,
      "outputs": [
        {
          "output_type": "stream",
          "name": "stdout",
          "text": [
            "          carat     depth     table     price         x         y         z\n",
            "carat  1.000000  0.726986 -0.347639  0.982821  0.972860  0.965740  0.973153\n",
            "depth  0.726986  1.000000 -0.844555  0.697854  0.568947  0.553414  0.860356\n",
            "table -0.347639 -0.844555  1.000000 -0.267052 -0.155047 -0.193091 -0.533767\n",
            "price  0.982821  0.697854 -0.267052  1.000000  0.952493  0.928273  0.943263\n",
            "x      0.972860  0.568947 -0.155047  0.952493  1.000000  0.988851  0.908020\n",
            "y      0.965740  0.553414 -0.193091  0.928273  0.988851  1.000000  0.897310\n",
            "z      0.973153  0.860356 -0.533767  0.943263  0.908020  0.897310  1.000000\n"
          ]
        }
      ]
    },
    {
      "cell_type": "code",
      "source": [
        "import pandas as pd\n",
        "import matplotlib.pyplot as plt\n",
        "\n",
        "\n",
        "data = {\n",
        "    'carat': [0.23, 0.21, 0.23, 0.29, 0.31],\n",
        "    'cut': ['Ideal', 'Premium', 'Good', 'Premium', 'Good'],\n",
        "    'color': ['E', 'E', 'E', 'I', 'J'],\n",
        "    'clarity': ['SI2', 'SI1', 'VS1', 'VS2', 'SI2'],\n",
        "    'depth': [61.5, 59.8, 56.9, 62.4, 63.3],\n",
        "    'table': [55.0, 61.0, 65.0, 58.0, 58.0],\n",
        "    'price': [326, 326, 327, 334, 335],\n",
        "    'x': [3.95, 3.89, 4.05, 4.20, 4.34],\n",
        "    'y': [3.98, 3.84, 4.07, 4.23, 4.35],\n",
        "    'z': [2.43, 2.31, 2.31, 2.63, 2.75]\n",
        "}\n",
        "data = pd.DataFrame(data)\n",
        "\n",
        "\n",
        "mean_price_by_cut = data.groupby('cut')['price'].mean().reset_index()\n",
        "\n",
        "\n",
        "plt.figure(figsize=(8, 6))\n",
        "plt.bar(mean_price_by_cut['cut'], mean_price_by_cut['price'], color='skyblue')\n",
        "plt.title('Mean Price by Cut')\n",
        "plt.xlabel('Cut')\n",
        "plt.ylabel('Mean Price')\n",
        "plt.xticks(rotation=45)\n",
        "plt.show()"
      ],
      "metadata": {
        "colab": {
          "base_uri": "https://localhost:8080/",
          "height": 604
        },
        "id": "9x7ftpSRFYci",
        "outputId": "2918a583-6e69-4802-b64a-1c0583e75a4c"
      },
      "execution_count": 31,
      "outputs": [
        {
          "output_type": "display_data",
          "data": {
            "text/plain": [
              "<Figure size 800x600 with 1 Axes>"
            ],
            "image/png": "[encoded data removed]"
          },
          "metadata": {}
        }
      ]
    }
  ],
  "metadata": {
    "colab": {
      "provenance": [],
      "include_colab_link": true
    },
    "kernelspec": {
      "display_name": "Python 3",
      "name": "python3"
    },
    "language_info": {
      "codemirror_mode": {
        "name": "ipython",
        "version": 3
      },
      "file_extension": ".py",
      "mimetype": "text/x-python",
      "name": "python",
      "nbconvert_exporter": "python",
      "pygments_lexer": "ipython3",
      "version": "3.12.2"
    }
  },
  "nbformat": 4,
  "nbformat_minor": 0
}